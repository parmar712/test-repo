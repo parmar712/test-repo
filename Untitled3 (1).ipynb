{
  "metadata": {
    "language_info": {
      "codemirror_mode": {
        "name": "python",
        "version": 3
      },
      "file_extension": ".py",
      "mimetype": "text/x-python",
      "name": "python",
      "nbconvert_exporter": "python",
      "pygments_lexer": "ipython3",
      "version": "3.8"
    },
    "kernelspec": {
      "name": "python",
      "display_name": "Pyolite",
      "language": "python"
    }
  },
  "nbformat_minor": 4,
  "nbformat": 4,
  "cells": [
    {
      "cell_type": "markdown",
      "source": "### my notebook",
      "metadata": {}
    },
    {
      "cell_type": "markdown",
      "source": "_ooga booga_",
      "metadata": {}
    },
    {
      "cell_type": "markdown",
      "source": "python, java, R , julia etc",
      "metadata": {}
    },
    {
      "cell_type": "markdown",
      "source": "__Tensor flow, Pytorch, Scipy__",
      "metadata": {}
    },
    {
      "cell_type": "markdown",
      "source": "|Purpose|Tool|\n|---|----|\n|data management|Amazon dynamo db|\n|---|----|\n|data visualisation|Informatica|\n|---|----|\n|model building|watson machine learning|",
      "metadata": {}
    },
    {
      "cell_type": "code",
      "source": "one = 1\ntwo = 2\nprint(one + two + two)",
      "metadata": {
        "trusted": true
      },
      "execution_count": 5,
      "outputs": [
        {
          "name": "stdout",
          "text": "5\n",
          "output_type": "stream"
        }
      ]
    },
    {
      "cell_type": "code",
      "source": "(3*2)",
      "metadata": {
        "trusted": true
      },
      "execution_count": 4,
      "outputs": [
        {
          "execution_count": 4,
          "output_type": "execute_result",
          "data": {
            "text/plain": "6"
          },
          "metadata": {}
        }
      ]
    },
    {
      "cell_type": "code",
      "source": "minutes = (180)\nhours = (minutes/60)\nprint(hours)",
      "metadata": {
        "trusted": true
      },
      "execution_count": 6,
      "outputs": [
        {
          "name": "stdout",
          "text": "3.0\n",
          "output_type": "stream"
        }
      ]
    },
    {
      "cell_type": "markdown",
      "source": "how to convert minutes to hours^^",
      "metadata": {}
    },
    {
      "cell_type": "markdown",
      "source": "__Done by__ _Lebron James_",
      "metadata": {}
    },
    {
      "cell_type": "code",
      "source": "",
      "metadata": {},
      "execution_count": null,
      "outputs": []
    }
  ]
}